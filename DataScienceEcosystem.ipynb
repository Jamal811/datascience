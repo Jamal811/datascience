{
 "cells": [
  {
   "cell_type": "markdown",
   "id": "b3f75778",
   "metadata": {},
   "source": [
    "# Data Science Tools and Ecosystem"
   ]
  },
  {
   "cell_type": "markdown",
   "id": "d29cc6fa",
   "metadata": {},
   "source": [
    "In this notebook, Data Science Tools and Ecosystem are summarized."
   ]
  },
  {
   "cell_type": "markdown",
   "id": "f7f5ffaf",
   "metadata": {},
   "source": [
    "Some of the popular languages that Data Scientists use are:\n",
    "1. Python\n",
    "2. R\n",
    "3. Javascript\n"
   ]
  },
  {
   "cell_type": "markdown",
   "id": "20626497",
   "metadata": {},
   "source": [
    "###### Some of the commonly used libraries used by Data Scientists include:\n",
    "1. TensorFlow.\n",
    "2. NumPy.\n",
    "3. SciPy.\n",
    "4. Pandas.\n",
    "5. Matplotlib.\n",
    "6. Keras.\n",
    "7. SciKit-Learn.\n",
    "8. PyTorch."
   ]
  },
  {
   "cell_type": "markdown",
   "id": "5820e1d9",
   "metadata": {},
   "source": [
    "| Data Science Tools | \n",
    "| ------------- |\n",
    "|  RStudio      |\n",
    "|   TensorFlow  | \n",
    "| RapidMiner    |\n",
    "\n"
   ]
  },
  {
   "cell_type": "markdown",
   "id": "7f0481a3",
   "metadata": {},
   "source": [
    "### Below are a few examples of evaluating arithmetic expressions in Python"
   ]
  },
  {
   "cell_type": "code",
   "execution_count": 1,
   "id": "380d169b",
   "metadata": {},
   "outputs": [
    {
     "data": {
      "text/plain": [
       "17"
      ]
     },
     "execution_count": 1,
     "metadata": {},
     "output_type": "execute_result"
    }
   ],
   "source": [
    "(3*4)+5"
   ]
  },
  {
   "cell_type": "markdown",
   "id": "57f99b53",
   "metadata": {},
   "source": [
    "####  This will convert 200 minutes to hours by diving by 60"
   ]
  },
  {
   "cell_type": "code",
   "execution_count": 2,
   "id": "a4a0fab3",
   "metadata": {},
   "outputs": [
    {
     "data": {
      "text/plain": [
       "3.3333333333333335"
      ]
     },
     "execution_count": 2,
     "metadata": {},
     "output_type": "execute_result"
    }
   ],
   "source": [
    "200/60"
   ]
  },
  {
   "cell_type": "markdown",
   "id": "d502c271",
   "metadata": {},
   "source": [
    "#### Objectives:\n",
    "List popular languages for Data Science\n",
    "+ Python.\n",
    "+ R.\n",
    "+ SQL.\n",
    "+ Java.\n",
    "+ Julia.\n"
   ]
  },
  {
   "cell_type": "markdown",
   "id": "079935c5",
   "metadata": {},
   "source": [
    "## Author \n",
    "Jamal shah"
   ]
  },
  {
   "cell_type": "code",
   "execution_count": null,
   "id": "87bf495b",
   "metadata": {},
   "outputs": [],
   "source": []
  }
 ],
 "metadata": {
  "kernelspec": {
   "display_name": "Python 3 (ipykernel)",
   "language": "python",
   "name": "python3"
  },
  "language_info": {
   "codemirror_mode": {
    "name": "ipython",
    "version": 3
   },
   "file_extension": ".py",
   "mimetype": "text/x-python",
   "name": "python",
   "nbconvert_exporter": "python",
   "pygments_lexer": "ipython3",
   "version": "3.10.9"
  }
 },
 "nbformat": 4,
 "nbformat_minor": 5
}
